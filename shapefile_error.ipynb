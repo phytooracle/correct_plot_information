{
 "cells": [
  {
   "cell_type": "code",
   "execution_count": 1,
   "metadata": {},
   "outputs": [],
   "source": [
    "import os\n",
    "import sys\n",
    "import geopandas as gpd"
   ]
  },
  {
   "cell_type": "code",
   "execution_count": 2,
   "metadata": {},
   "outputs": [],
   "source": [
    "df = gpd.read_file('./sorghum/season14_multi_latlon_geno_updated.geojson')\n",
    "df['ID_NULL'] = df['ID_NULL'].astype(str)"
   ]
  },
  {
   "cell_type": "code",
   "execution_count": 3,
   "metadata": {},
   "outputs": [
    {
     "data": {
      "text/plain": [
       "1280"
      ]
     },
     "execution_count": 3,
     "metadata": {},
     "output_type": "execute_result"
    }
   ],
   "source": [
    "df['ID'].nunique()"
   ]
  },
  {
   "cell_type": "code",
   "execution_count": 4,
   "metadata": {},
   "outputs": [
    {
     "data": {
      "text/plain": [
       "1278"
      ]
     },
     "execution_count": 4,
     "metadata": {},
     "output_type": "execute_result"
    }
   ],
   "source": [
    "df['ID_NULL'].nunique()"
   ]
  },
  {
   "cell_type": "code",
   "execution_count": 5,
   "metadata": {},
   "outputs": [
    {
     "data": {
      "text/plain": [
       "1280"
      ]
     },
     "execution_count": 5,
     "metadata": {},
     "output_type": "execute_result"
    }
   ],
   "source": [
    "df['range'].nunique() * df['column'].nunique()"
   ]
  },
  {
   "cell_type": "code",
   "execution_count": 6,
   "metadata": {},
   "outputs": [
    {
     "data": {
      "text/html": [
       "<div>\n",
       "<style scoped>\n",
       "    .dataframe tbody tr th:only-of-type {\n",
       "        vertical-align: middle;\n",
       "    }\n",
       "\n",
       "    .dataframe tbody tr th {\n",
       "        vertical-align: top;\n",
       "    }\n",
       "\n",
       "    .dataframe thead th {\n",
       "        text-align: right;\n",
       "    }\n",
       "</style>\n",
       "<table border=\"1\" class=\"dataframe\">\n",
       "  <thead>\n",
       "    <tr style=\"text-align: right;\">\n",
       "      <th></th>\n",
       "      <th>year</th>\n",
       "      <th>range</th>\n",
       "      <th>column</th>\n",
       "      <th>ID</th>\n",
       "      <th>type</th>\n",
       "      <th>rep</th>\n",
       "      <th>treatment</th>\n",
       "      <th>species</th>\n",
       "      <th>genotype</th>\n",
       "      <th>Entry_ID</th>\n",
       "      <th>ID_NULL</th>\n",
       "      <th>geometry</th>\n",
       "    </tr>\n",
       "  </thead>\n",
       "  <tbody>\n",
       "    <tr>\n",
       "      <th>763</th>\n",
       "      <td>2022</td>\n",
       "      <td>78</td>\n",
       "      <td>28</td>\n",
       "      <td>7828</td>\n",
       "      <td>experimental</td>\n",
       "      <td>1.0</td>\n",
       "      <td>WW</td>\n",
       "      <td>sorghum bicolor</td>\n",
       "      <td>PI 678055</td>\n",
       "      <td>Az22-282</td>\n",
       "      <td>7827</td>\n",
       "      <td>MULTIPOLYGON (((-111.97484 33.07748, -111.9748...</td>\n",
       "    </tr>\n",
       "    <tr>\n",
       "      <th>845</th>\n",
       "      <td>2022</td>\n",
       "      <td>81</td>\n",
       "      <td>14</td>\n",
       "      <td>8114</td>\n",
       "      <td>experimental</td>\n",
       "      <td>1.0</td>\n",
       "      <td>WW</td>\n",
       "      <td>sorghum bicolor</td>\n",
       "      <td>PI 678182</td>\n",
       "      <td>Az22-110</td>\n",
       "      <td>8112</td>\n",
       "      <td>MULTIPOLYGON (((-111.97497 33.07759, -111.9749...</td>\n",
       "    </tr>\n",
       "  </tbody>\n",
       "</table>\n",
       "</div>"
      ],
      "text/plain": [
       "     year  range  column    ID          type  rep treatment          species  \\\n",
       "763  2022     78      28  7828  experimental  1.0        WW  sorghum bicolor   \n",
       "845  2022     81      14  8114  experimental  1.0        WW  sorghum bicolor   \n",
       "\n",
       "      genotype  Entry_ID ID_NULL  \\\n",
       "763  PI 678055  Az22-282    7827   \n",
       "845  PI 678182  Az22-110    8112   \n",
       "\n",
       "                                              geometry  \n",
       "763  MULTIPOLYGON (((-111.97484 33.07748, -111.9748...  \n",
       "845  MULTIPOLYGON (((-111.97497 33.07759, -111.9749...  "
      ]
     },
     "execution_count": 6,
     "metadata": {},
     "output_type": "execute_result"
    }
   ],
   "source": [
    "df[df['ID_NULL'].duplicated()==True]"
   ]
  },
  {
   "cell_type": "code",
   "execution_count": 7,
   "metadata": {},
   "outputs": [],
   "source": [
    "df['ID'] = df['ID_NULL']\n",
    "df = df[['ID', 'geometry']]\n",
    "df = df.sort_values('ID')"
   ]
  },
  {
   "cell_type": "code",
   "execution_count": 8,
   "metadata": {},
   "outputs": [],
   "source": [
    "df.to_file('./sorghum/season14_multi_latlon_geno_correction.geojson', driver=\"GeoJSON\")  "
   ]
  },
  {
   "cell_type": "code",
   "execution_count": null,
   "metadata": {},
   "outputs": [],
   "source": []
  }
 ],
 "metadata": {
  "kernelspec": {
   "display_name": "Python 3",
   "language": "python",
   "name": "python3"
  },
  "language_info": {
   "codemirror_mode": {
    "name": "ipython",
    "version": 3
   },
   "file_extension": ".py",
   "mimetype": "text/x-python",
   "name": "python",
   "nbconvert_exporter": "python",
   "pygments_lexer": "ipython3",
   "version": "3.10.12"
  }
 },
 "nbformat": 4,
 "nbformat_minor": 2
}
