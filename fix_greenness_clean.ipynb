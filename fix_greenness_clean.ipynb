{
 "cells": [
  {
   "cell_type": "code",
   "execution_count": 1,
   "metadata": {},
   "outputs": [],
   "source": [
    "import os\n",
    "import sys\n",
    "import geopandas as gpd\n",
    "import pandas as pd\n",
    "import glob\n",
    "import seaborn as sns"
   ]
  },
  {
   "cell_type": "code",
   "execution_count": 2,
   "metadata": {},
   "outputs": [],
   "source": [
    "def get_error_plots_geodataframe(geojson_path):\n",
    "    \n",
    "    # Read GeoJSON file\n",
    "    gdf = gpd.read_file(geojson_path)\n",
    "\n",
    "    # Extract relevant columns\n",
    "    gdf = gdf[['year', 'range', 'row', 'plot', 'type', 'rep', 'treatment', 'species', 'accession', 'Entry_ID', 'ID', 'error_ID', 'mismatch']]\n",
    "\n",
    "    # Extract only those plots that had error\n",
    "    gdf = gdf[gdf['mismatch']=='error']\n",
    "\n",
    "    return gdf\n",
    "\n",
    "\n",
    "def get_error_plots_list(gdf):\n",
    "\n",
    "    # Get a list of those plots that had error\n",
    "    error_plot_list = gdf['error_ID'].unique().tolist()\n",
    "\n",
    "    return error_plot_list\n",
    "\n",
    "\n",
    "def fix_error_plots(geojson_path, data_path, output_directory, error_plot_list, gdf, columns_to_replace):\n",
    "\n",
    "    # Iterate through all CSV files\n",
    "    for csv in glob.glob(data_path):\n",
    "\n",
    "        # Read CSV\n",
    "        temp_df = pd.read_csv(csv)\n",
    "\n",
    "        # Convert plot column to string\n",
    "        temp_df['plot'] = temp_df['plot'].astype(str)\n",
    "\n",
    "        # Initialize the \"replaced\" column with False\n",
    "        temp_df['replaced'] = False\n",
    "        \n",
    "        # Find the rows where 'plot' is in error_plot_list\n",
    "        mask = temp_df['plot'].isin(error_plot_list)\n",
    "        \n",
    "        # Get the corresponding rows from gdf\n",
    "        temp_gdf = gdf.set_index('error_ID').loc[temp_df.loc[mask, 'plot']]\n",
    "        \n",
    "        # Fill in the NA values with the values from temp_gdf\n",
    "        for col in columns_to_replace:\n",
    "            temp_df.loc[mask, col] = temp_gdf[col].values\n",
    "        \n",
    "        # Indicate that values have been replaced\n",
    "        temp_df.loc[mask, 'replaced'] = True\n",
    "        \n",
    "        temp_df = temp_df.sort_values('plot')\n",
    "        cols = temp_df.columns.tolist()\n",
    "\n",
    "        # ADDED \n",
    "        temp_df = temp_df.drop('accession', axis=1)\n",
    "        gdf_geno = gpd.read_file(geojson_path)\n",
    "        gdf_geno = gdf_geno[['plot', 'accession']]\n",
    "        temp_df = gdf_geno.merge(temp_df, on='plot')\n",
    "        temp_df = temp_df[cols]\n",
    "        ###\n",
    "        \n",
    "        csv_outname = os.path.basename(csv)\n",
    "        temp_df.to_csv(os.path.join(output_directory, csv_outname.replace('.csv', '_corrected.csv')), index=False)"
   ]
  },
  {
   "cell_type": "code",
   "execution_count": 3,
   "metadata": {},
   "outputs": [],
   "source": [
    "if not os.path.isdir('./data/drone_greenness_corrected'):\n",
    "    os.makedirs('./data/drone_greenness_corrected')"
   ]
  },
  {
   "cell_type": "code",
   "execution_count": 4,
   "metadata": {},
   "outputs": [],
   "source": [
    "# Get error plots to fix\n",
    "gdf = get_error_plots_geodataframe(geojson_path='./sorghum/season14_multi_latlon_geno_correction_labeled.geojson')\n",
    "\n",
    "# Get list of error plots to fix\n",
    "error_plot_list = get_error_plots_list(gdf=gdf)\n",
    "\n",
    "# Fix error plots using GeoJSON\n",
    "fix_error_plots(\n",
    "    geojson_path='./sorghum/season14_multi_latlon_geno_correction_labeled.geojson',\n",
    "    data_path='./data/drone_greenness/*.csv',\n",
    "    output_directory='./data/drone_greenness_corrected',\n",
    "    error_plot_list=error_plot_list, \n",
    "    gdf=gdf,\n",
    "    columns_to_replace=['plot', 'year', 'range', 'row', 'species', 'treatment', 'type', 'rep', 'accession']\n",
    ")"
   ]
  }
 ],
 "metadata": {
  "kernelspec": {
   "display_name": "Python 3",
   "language": "python",
   "name": "python3"
  },
  "language_info": {
   "codemirror_mode": {
    "name": "ipython",
    "version": 3
   },
   "file_extension": ".py",
   "mimetype": "text/x-python",
   "name": "python",
   "nbconvert_exporter": "python",
   "pygments_lexer": "ipython3",
   "version": "3.10.12"
  }
 },
 "nbformat": 4,
 "nbformat_minor": 2
}
